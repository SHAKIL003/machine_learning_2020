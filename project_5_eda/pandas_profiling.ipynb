{
 "cells": [
  {
   "cell_type": "code",
   "execution_count": 1,
   "metadata": {},
   "outputs": [],
   "source": [
    "import pandas as pd\n",
    "import seaborn as sns"
   ]
  },
  {
   "cell_type": "code",
   "execution_count": null,
   "metadata": {},
   "outputs": [],
   "source": [
    "df = pd.read_csv('train.csv')\n",
    "df.head()"
   ]
  },
  {
   "cell_type": "markdown",
   "metadata": {},
   "source": [
    "#### How to fix the error for the main use cases\n",
    "- use `pip install ydata-profiling` rather than pip install pandas-profiling\n",
    "- replace pandas-profiling by ydata-profiling in your pip requirements files (requirements.txt, setup.py, setup.cfg, Pipfile, etc ...)\n",
    "- if the pandas-profiling package is used by one of your dependencies it would be great if you take some time to track which package uses pandas_profiling instead of ydata_profiling for the imports\n",
    "- After April 1st, an error will be thrown if `from pandas_profiling import ProfileReport` is used. Use `from ydata_profiling import ProfileReport` instead"
   ]
  },
  {
   "cell_type": "code",
   "execution_count": null,
   "metadata": {},
   "outputs": [],
   "source": [
    "# pip install ydata-profiling"
   ]
  },
  {
   "cell_type": "code",
   "execution_count": null,
   "metadata": {},
   "outputs": [],
   "source": [
    "from ydata_profiling import ProfileReport\n",
    "\n",
    "# Load your data\n",
    "df = sns.load_dataset('iris')\n",
    "\n",
    "# Generate a profile report\n",
    "profile = ProfileReport(df, title=\"Pandas Profiling Report\", explorative=True)\n",
    "\n",
    "# Save the report to an HTML file\n",
    "profile.to_file(\"output.html\")\n",
    "\n",
    "# Display the report (if running in Jupyter Notebook)\n",
    "# profile.to_notebook_iframe()\n"
   ]
  }
 ],
 "metadata": {
  "kernelspec": {
   "display_name": ".machinelearningenv",
   "language": "python",
   "name": "python3"
  },
  "language_info": {
   "codemirror_mode": {
    "name": "ipython",
    "version": 3
   },
   "file_extension": ".py",
   "mimetype": "text/x-python",
   "name": "python",
   "nbconvert_exporter": "python",
   "pygments_lexer": "ipython3",
   "version": "3.12.7"
  }
 },
 "nbformat": 4,
 "nbformat_minor": 2
}
